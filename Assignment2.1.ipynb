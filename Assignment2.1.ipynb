{
  "nbformat": 4,
  "nbformat_minor": 0,
  "metadata": {
    "colab": {
      "provenance": [],
      "authorship_tag": "ABX9TyNSjJQU/3+IZiFSiXdlUheG",
      "include_colab_link": true
    },
    "kernelspec": {
      "name": "python3",
      "display_name": "Python 3"
    },
    "language_info": {
      "name": "python"
    }
  },
  "cells": [
    {
      "cell_type": "markdown",
      "metadata": {
        "id": "view-in-github",
        "colab_type": "text"
      },
      "source": [
        "<a href=\"https://colab.research.google.com/github/Siboham2510/Financial-Forecasting-UID62/blob/main/Assignment2.1.ipynb\" target=\"_parent\"><img src=\"https://colab.research.google.com/assets/colab-badge.svg\" alt=\"Open In Colab\"/></a>"
      ]
    },
    {
      "cell_type": "code",
      "execution_count": null,
      "metadata": {
        "id": "fErvU4hUsdja"
      },
      "outputs": [],
      "source": [
        "import numpy as np\n",
        "\n"
      ]
    },
    {
      "cell_type": "code",
      "source": [
        "# Define the function\n",
        "def f(x): #test function\n",
        "    return np.exp(-x) + 3*x**3 + 5*x**5\n",
        "def finite_difference(f, x, h=1e-5):\n",
        "    return (f(x + h) - f(x - h)) / (2 * h)"
      ],
      "metadata": {
        "id": "l_mTxWlVy-4b"
      },
      "execution_count": null,
      "outputs": []
    },
    {
      "cell_type": "code",
      "source": [
        "# Bisection Method\n",
        "def bisection_method(f, a, b, tol, max_iter):\n",
        "    iterations = 0\n",
        "    while abs(b - a) > tol and iterations < max_iter:\n",
        "        c = (a + b) / 2\n",
        "        if f(a) * f(c) < 0:\n",
        "            b = c\n",
        "        else:\n",
        "            a = c\n",
        "        iterations += 1\n",
        "    if iterations == max_iter:\n",
        "        raise ValueError(\"Bisection method did not converge within the maximum iterations.\")\n",
        "    return c, iterations\n"
      ],
      "metadata": {
        "id": "P7bbTQ6EzElR"
      },
      "execution_count": null,
      "outputs": []
    },
    {
      "cell_type": "code",
      "source": [
        "# Newton's Method (with finite difference derivative)\n",
        "def newton_method(f, x0, tol, max_iter):\n",
        "    iterations = 0\n",
        "    while abs(f(x0)) > tol and iterations < max_iter:\n",
        "        f_prime_approx = finite_difference(f, x0)\n",
        "        if abs(f_prime_approx) < 1e-10:  # Avoid division by near-zero\n",
        "            raise ValueError(\"Derivative too small; Newton's method may fail.\")\n",
        "        x0 = x0 - f(x0) / f_prime_approx\n",
        "        iterations += 1\n",
        "    if iterations == max_iter:\n",
        "        raise ValueError(\"Newton's method did not converge within the maximum iterations.\")\n",
        "    return x0, iterations"
      ],
      "metadata": {
        "id": "iQ5LhxZszQ_4"
      },
      "execution_count": null,
      "outputs": []
    },
    {
      "cell_type": "code",
      "source": [
        "# Secant Method\n",
        "def secant_method(f, x0, x1, tol, max_iter):\n",
        "    iterations = 0\n",
        "    while abs(f(x1)) > tol and iterations < max_iter:\n",
        "        if abs(f(x1) - f(x0)) < 1e-10:  # Avoid division by near-zero\n",
        "            raise ValueError(\"Function values too close; Secant method may fail.\")\n",
        "        x_temp = x1 - f(x1) * (x1 - x0) / (f(x1) - f(x0))\n",
        "        x0, x1 = x1, x_temp\n",
        "        iterations += 1\n",
        "    if iterations == max_iter:\n",
        "        raise ValueError(\"Secant method did not converge within the maximum iterations.\")\n",
        "    return x1, iterations"
      ],
      "metadata": {
        "id": "m8GcICG5zVvU"
      },
      "execution_count": null,
      "outputs": []
    },
    {
      "cell_type": "code",
      "source": [
        "# Regula Falsi Method\n",
        "def regula_falsi_method(f, a, b, tol, max_iter):\n",
        "    iterations = 0\n",
        "    while abs(f(a) - f(b)) > tol and iterations < max_iter:\n",
        "        c = b - f(b) * (b - a) / (f(b) - f(a))\n",
        "        if f(a) * f(c) < 0:\n",
        "            b = c\n",
        "        else:\n",
        "            a = c\n",
        "        iterations += 1\n",
        "    if iterations == max_iter:\n",
        "        raise ValueError(\"Regula Falsi method did not converge within the maximum iterations.\")\n",
        "    return c, iterations\n"
      ],
      "metadata": {
        "id": "Fvoa43QTzZkt"
      },
      "execution_count": null,
      "outputs": []
    },
    {
      "cell_type": "code",
      "source": [
        "# Parameters\n",
        "a, b = -1, 1  # Interval for methods requiring bracketing\n",
        "x0, x1 = -0.5, 0.5  # Initial guesses for Newton and Secant methods\n",
        "tol = 1e-3\n",
        "max_iter = 100  # Upper threshold for iterations"
      ],
      "metadata": {
        "id": "jR1HMj-2zdiW"
      },
      "execution_count": null,
      "outputs": []
    },
    {
      "cell_type": "code",
      "source": [
        "# Run all methods\n",
        "try:\n",
        "    root_bisection, iter_bisection = bisection_method(f, a, b, tol, max_iter)\n",
        "    print(f\"Bisection Method: Root = {root_bisection:.6f}, Iterations = {iter_bisection}\")\n",
        "except ValueError as e:\n",
        "    print(f\"Bisection Method: {e}\")\n",
        "\n",
        "try:\n",
        "    root_newton, iter_newton = newton_method(f, x0, tol, max_iter)\n",
        "    print(f\"Newton's Method: Root = {root_newton:.6f}, Iterations = {iter_newton}\")\n",
        "except ValueError as e:\n",
        "    print(f\"Newton's Method: {e}\")\n",
        "\n",
        "try:\n",
        "    root_secant, iter_secant = secant_method(f, x0, x1, tol, max_iter)\n",
        "    print(f\"Secant Method: Root = {root_secant:.6f}, Iterations = {iter_secant}\")\n",
        "except ValueError as e:\n",
        "    print(f\"Secant Method: {e}\")\n",
        "\n",
        "try:\n",
        "    root_regula_falsi, iter_regula_falsi = regula_falsi_method(f, a, b, tol, max_iter)\n",
        "    print(f\"Regula Falsi Method: Root = {root_regula_falsi:.6f}, Iterations = {iter_regula_falsi}\")\n",
        "except ValueError as e:\n",
        "    print(f\"Regula Falsi Method: {e}\")"
      ],
      "metadata": {
        "id": "T96e6-Wmziky",
        "colab": {
          "base_uri": "https://localhost:8080/"
        },
        "outputId": "c47cfe0c-cbbe-451c-fd78-dd1d6b93ad5b"
      },
      "execution_count": null,
      "outputs": [
        {
          "output_type": "stream",
          "name": "stdout",
          "text": [
            "Bisection Method: Root = -0.715820, Iterations = 11\n",
            "Newton's Method: Root = -0.716467, Iterations = 5\n",
            "Secant Method: Function values too close; Secant method may fail.\n",
            "Regula Falsi Method: Regula Falsi method did not converge within the maximum iterations.\n"
          ]
        }
      ]
    },
    {
      "cell_type": "code",
      "source": [
        "def f(x):\n",
        "    try:\n",
        "        return x**31 - 1000\n",
        "    except OverflowError:\n",
        "        return np.inf  # Return a very large number if overflow occurs\n",
        "\n",
        "# Example settings\n",
        "a, b = 1, 2  # Interval for methods requiring bracketing\n",
        "x0, x1 = 1.5, 2.0  # Initial guesses for Newton and Secant methods\n",
        "tol = 1e-3\n",
        "max_iter = 100  # Upper threshold for iterations\n",
        "\n",
        "# Run all methods\n",
        "try:\n",
        "    root_bisection, iter_bisection = bisection_method(f, a, b, tol, max_iter)\n",
        "    print(f\"Bisection Method: Root = {root_bisection:.6f}, Iterations = {iter_bisection}\")\n",
        "except ValueError as e:\n",
        "    print(f\"Bisection Method: {e}\")\n",
        "\n",
        "try:\n",
        "    root_newton, iter_newton = newton_method(f, x0, tol, max_iter)\n",
        "    print(f\"Newton's Method: Root = {root_newton:.6f}, Iterations = {iter_newton}\")\n",
        "except ValueError as e:\n",
        "    print(f\"Newton's Method: {e}\")\n",
        "\n",
        "try:\n",
        "    root_secant, iter_secant = secant_method(f, x0, x1, tol, max_iter)\n",
        "    print(f\"Secant Method: Root = {root_secant:.6f}, Iterations = {iter_secant}\")\n",
        "except ValueError as e:\n",
        "    print(f\"Secant Method: {e}\")\n",
        "\n",
        "try:\n",
        "    root_regula_falsi, iter_regula_falsi = regula_falsi_method(f, a, b, tol, max_iter)\n",
        "    print(f\"Regula Falsi Method: Root = {root_regula_falsi:.6f}, Iterations = {iter_regula_falsi}\")\n",
        "except ValueError as e:\n",
        "    print(f\"Regula Falsi Method: {e}\")"
      ],
      "metadata": {
        "colab": {
          "base_uri": "https://localhost:8080/"
        },
        "id": "VlWjxqEN5n7e",
        "outputId": "159d6d10-3dce-4045-bf00-4f72d80c7577"
      },
      "execution_count": null,
      "outputs": [
        {
          "output_type": "stream",
          "name": "stdout",
          "text": [
            "Bisection Method: Root = 1.249023, Iterations = 10\n",
            "Newton's Method: Root = 1.249609, Iterations = 9\n",
            "Secant Method: Root = 1.249609, Iterations = 15\n",
            "Regula Falsi Method: Regula Falsi method did not converge within the maximum iterations.\n"
          ]
        }
      ]
    },
    {
      "cell_type": "code",
      "source": [
        "def f(x):\n",
        "    return (np.sin(x)**5) * (np.cos(x)**3) - np.exp(x)\n",
        "\n",
        "# Example settings for finding a negative root\n",
        "a, b = -1, 0  # Interval for methods requiring bracketing\n",
        "x0, x1 = -0.8, -0.5  # Initial guesses for Newton and Secant methods\n",
        "tol = 1e-3\n",
        "max_iter = 100  # Upper threshold for iterations\n",
        "\n",
        "# Run all methods\n",
        "try:\n",
        "    root_bisection, iter_bisection = bisection_method(f, a, b, tol, max_iter)\n",
        "    print(f\"Bisection Method: Root = {root_bisection:.6f}, Iterations = {iter_bisection}\")\n",
        "except ValueError as e:\n",
        "    print(f\"Bisection Method: {e}\")\n",
        "\n",
        "try:\n",
        "    root_newton, iter_newton = newton_method(f, x0, tol, max_iter)\n",
        "    print(f\"Newton's Method: Root = {root_newton:.6f}, Iterations = {iter_newton}\")\n",
        "except ValueError as e:\n",
        "    print(f\"Newton's Method: {e}\")\n",
        "\n",
        "try:\n",
        "    root_secant, iter_secant = secant_method(f, x0, x1, tol, max_iter)\n",
        "    print(f\"Secant Method: Root = {root_secant:.6f}, Iterations = {iter_secant}\")\n",
        "except ValueError as e:\n",
        "    print(f\"Secant Method: {e}\")\n",
        "\n",
        "try:\n",
        "    root_regula_falsi, iter_regula_falsi = regula_falsi_method(f, a, b, tol, max_iter)\n",
        "    print(f\"Regula Falsi Method: Root = {root_regula_falsi:.6f}, Iterations = {iter_regula_falsi}\")\n",
        "except ValueError as e:\n",
        "    print(f\"Regula Falsi Method: {e}\")"
      ],
      "metadata": {
        "colab": {
          "base_uri": "https://localhost:8080/"
        },
        "id": "0098ucCr6FYv",
        "outputId": "a97e5caf-1c97-45ba-9b66-c6160193d0ff"
      },
      "execution_count": null,
      "outputs": [
        {
          "output_type": "stream",
          "name": "stdout",
          "text": [
            "Bisection Method: Root = -0.000977, Iterations = 10\n",
            "Newton's Method: Root = -4.915966, Iterations = 16\n",
            "Secant Method: Root = -4.907780, Iterations = 26\n",
            "Regula Falsi Method: Root = -4.914883, Iterations = 70\n"
          ]
        }
      ]
    },
    {
      "cell_type": "code",
      "source": [
        "def f(x):\n",
        "    return 1 / (1 + np.exp(-(x**2 + np.sin(x) + x))) - 0.5# Example settings\n",
        "# Example settings for negative root\n",
        "a, b = -3, -1  # Interval for methods requiring bracketing (looking for negative root)\n",
        "x0, x1 = -2.5, -2.0  # Initial guesses for Newton and Secant methods\n",
        "tol = 1e-3\n",
        "max_iter = 100  # Upper threshold for iterations\n",
        "\n",
        "# Run all methods\n",
        "try:\n",
        "    root_bisection, iter_bisection = bisection_method(f, a, b, tol, max_iter)\n",
        "    print(f\"Bisection Method: Root = {root_bisection:.6f}, Iterations = {iter_bisection}\")\n",
        "except ValueError as e:\n",
        "    print(f\"Bisection Method: {e}\")\n",
        "\n",
        "try:\n",
        "    root_newton, iter_newton = newton_method(f, x0, tol, max_iter)\n",
        "    print(f\"Newton's Method: Root = {root_newton:.6f}, Iterations = {iter_newton}\")\n",
        "except ValueError as e:\n",
        "    print(f\"Newton's Method: {e}\")\n",
        "\n",
        "try:\n",
        "    root_secant, iter_secant = secant_method(f, x0, x1, tol, max_iter)\n",
        "    print(f\"Secant Method: Root = {root_secant:.6f}, Iterations = {iter_secant}\")\n",
        "except ValueError as e:\n",
        "    print(f\"Secant Method: {e}\")\n",
        "\n",
        "try:\n",
        "    root_regula_falsi, iter_regula_falsi = regula_falsi_method(f, a, b, tol, max_iter)\n",
        "    print(f\"Regula Falsi Method: Root = {root_regula_falsi:.6f}, Iterations = {iter_regula_falsi}\")\n",
        "except ValueError as e:\n",
        "    print(f\"Regula Falsi Method: {e}\")"
      ],
      "metadata": {
        "colab": {
          "base_uri": "https://localhost:8080/"
        },
        "id": "5aQ5KdJsAsm4",
        "outputId": "0c582334-8293-4098-8363-6b40d1003f54"
      },
      "execution_count": null,
      "outputs": [
        {
          "output_type": "stream",
          "name": "stdout",
          "text": [
            "Bisection Method: Root = -1.618164, Iterations = 11\n",
            "Newton's Method: Root = 0.000004, Iterations = 3\n",
            "Secant Method: Root = -1.617371, Iterations = 4\n",
            "Regula Falsi Method: Root = -1.617545, Iterations = 10\n"
          ]
        }
      ]
    }
  ]
}