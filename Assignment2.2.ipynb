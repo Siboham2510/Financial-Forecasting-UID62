{
  "nbformat": 4,
  "nbformat_minor": 0,
  "metadata": {
    "colab": {
      "provenance": [],
      "authorship_tag": "ABX9TyPX++wJhyes1RxRXXH8uh8H",
      "include_colab_link": true
    },
    "kernelspec": {
      "name": "python3",
      "display_name": "Python 3"
    },
    "language_info": {
      "name": "python"
    }
  },
  "cells": [
    {
      "cell_type": "markdown",
      "metadata": {
        "id": "view-in-github",
        "colab_type": "text"
      },
      "source": [
        "<a href=\"https://colab.research.google.com/github/Siboham2510/Financial-Forecasting-UID62/blob/main/Assignment2.2.ipynb\" target=\"_parent\"><img src=\"https://colab.research.google.com/assets/colab-badge.svg\" alt=\"Open In Colab\"/></a>"
      ]
    },
    {
      "cell_type": "code",
      "execution_count": 2,
      "metadata": {
        "colab": {
          "base_uri": "https://localhost:8080/"
        },
        "id": "aM4KAFfsF8B9",
        "outputId": "4c88b876-4bfa-4ce2-c449-549b3e8d07ad"
      },
      "outputs": [
        {
          "output_type": "stream",
          "name": "stdout",
          "text": [
            "Warning: Derivative is too small, adjusting guess.\n",
            "Warning: Derivative is too small, adjusting guess.\n",
            "Warning: Derivative is too small, adjusting guess.\n",
            "Warning: Derivative is too small, adjusting guess.\n",
            "Warning: Derivative is too small, adjusting guess.\n",
            "Warning: Derivative is too small, adjusting guess.\n",
            "Warning: Derivative is too small, adjusting guess.\n",
            "Warning: Derivative is too small, adjusting guess.\n",
            "Warning: Derivative is too small, adjusting guess.\n",
            "Warning: Derivative is too small, adjusting guess.\n",
            "Yield to Maturity (YTM): 15.0000%\n"
          ]
        }
      ],
      "source": [
        "import numpy as np\n",
        "from datetime import datetime\n",
        "\n",
        "# Function to calculate accrued interest\n",
        "def accrued_interest(P_T, last_coupon_date, next_coupon_date, current_date, coupon_rate, m, PT):\n",
        "    days_in_period = (next_coupon_date - last_coupon_date).days\n",
        "    days_since_last_coupon = (current_date - last_coupon_date).days\n",
        "    return (days_since_last_coupon / days_in_period) * coupon_rate * PT / m\n",
        "\n",
        "# Function to calculate the bond price\n",
        "def bond_price(r, C, F, N, PT):\n",
        "    price = 0\n",
        "    for k in range(1, N + 1):\n",
        "        price += C / (1 + r)**k\n",
        "    price += F / (1 + r)**N\n",
        "    return price\n",
        "\n",
        "# Function to calculate the derivative of the bond price with respect to r\n",
        "def bond_price_derivative(r, C, F, N):\n",
        "    derivative = 0\n",
        "    for k in range(1, N + 1):\n",
        "        derivative -= k * C / (1 + r)**(k + 1)\n",
        "    derivative -= N * F / (1 + r)**(N + 1)\n",
        "    return derivative\n",
        "\n",
        "# Newton-Raphson method to find the YTM\n",
        "def newton_raphson_ytm(PD, rC, m, PT, T, t, last_coupon_date, next_coupon_date, max_iter=10, tol=1e-6):\n",
        "    # Convert dates to datetime objects\n",
        "    T = datetime.strptime(T, \"%d-%m-%Y\")\n",
        "    t = datetime.strptime(t, \"%d-%m-%Y\")\n",
        "    last_coupon_date = datetime.strptime(last_coupon_date, \"%d-%m-%Y\")\n",
        "    next_coupon_date = datetime.strptime(next_coupon_date, \"%d-%m-%Y\")\n",
        "\n",
        "    # Calculate number of periods (years to maturity * frequency of coupons)\n",
        "    N = (T - t).days // 365 * m  # Adjust if maturity is not exactly in years\n",
        "\n",
        "    # Coupon payment and accrued interest\n",
        "    coupon_payment = rC * PT / m\n",
        "    accrued_interest_amount = accrued_interest(PD, last_coupon_date, next_coupon_date, t, rC, m, PT)\n",
        "\n",
        "    # Adjust price (dirty price to clean price by subtracting accrued interest)\n",
        "    price_clean = PD - accrued_interest_amount\n",
        "\n",
        "    # Initial guess for YTM is the coupon rate\n",
        "    r_guess = rC\n",
        "\n",
        "    # Iterative calculation of YTM using Newton-Raphson\n",
        "    for _ in range(max_iter):\n",
        "        # Compute bond price and its derivative\n",
        "        f_r = bond_price(r_guess, coupon_payment, PT, N, price_clean)\n",
        "        f_prime_r = bond_price_derivative(r_guess, coupon_payment, PT, N)\n",
        "\n",
        "        # Prevent division by zero: If derivative is too small, adjust the guess or return error\n",
        "        if abs(f_prime_r) < tol:\n",
        "            print(\"Warning: Derivative is too small, adjusting guess.\")\n",
        "            r_guess += 0.01  # Adjust the guess slightly to prevent division by zero\n",
        "            continue\n",
        "\n",
        "        # Update guess using Newton-Raphson\n",
        "        r_guess -= f_r / f_prime_r\n",
        "\n",
        "    return r_guess\n",
        "\n",
        "# Example usage with input data\n",
        "if __name__ == \"__main__\":\n",
        "    # Sample input values (Problem 3.4)\n",
        "    PD = 950  # Last traded (dirty) price in USD\n",
        "    rC = 0.05  # Coupon rate 5%\n",
        "    m = 2  # Semi-annual coupons\n",
        "    PT = 1000  # Face value of the bond\n",
        "    T = \"01-04-2019\"  # Maturity date (DD-MM-YYYY)\n",
        "    t = \"01-01-2019\"  # Current date (DD-MM-YYYY)\n",
        "    last_coupon_date = \"01-07-2018\"  # Last coupon payment date (DD-MM-YYYY)\n",
        "    next_coupon_date = \"01-07-2019\"  # Next coupon payment date (DD-MM-YYYY)\n",
        "\n",
        "    ytm = newton_raphson_ytm(PD, rC, m, PT, T, t, last_coupon_date, next_coupon_date)\n",
        "    print(f\"Yield to Maturity (YTM): {ytm * 100:.4f}%\")\n"
      ]
    },
    {
      "cell_type": "markdown",
      "source": [
        "2.2. i\n",
        "consider a bond with face value of 1000 and coupon rate of 12.75% with annual coupon payments. The last coupon payment was made on 1st April 2014. If the bond was purchased on 14th july 2014 at a dirty price of 1032 per bond,then find accrued interest and clean price of the bond usnig the program\n",
        "Accrued Interest Formula: The formula for accrued interest is:\n",
        "\n",
        "Accrued Interest\n",
        "=\n",
        "Coupon Payment\n",
        "×Days Since Last Coupon Payment\n",
        "Days in Coupon Period\n",
        "Accrued Interest=Coupon Payment×\n",
        "Days in Coupon Period\n",
        "Days Since Last Coupon Payment\n",
        "​\n",
        "\n",
        "where:\n",
        "\n",
        "Coupon Payment = Face Value × Coupon Rate (Annual coupon payment)\n",
        "Days Since Last Coupon Payment = Days between last coupon date and the purchase date.\n",
        "Days in Coupon Period = Number of days in the coupon period (usually 365 or 360 days, depending on the bond conventions).\n",
        "Clean Price: The clean price is simply the dirty price minus the accrued interest:\n",
        "\n",
        "Clean Price\n",
        "=\n",
        "Dirty Price\n",
        "−\n",
        "Accrued Interest\n",
        "Clean Price=Dirty Price−Accrued Interest"
      ],
      "metadata": {
        "id": "CIoMkLWmIP08"
      }
    },
    {
      "cell_type": "markdown",
      "source": [],
      "metadata": {
        "id": "0xteQFmTIPnH"
      }
    },
    {
      "cell_type": "code",
      "source": [
        "def calculate_accrued_interest(face_value, coupon_rate, last_coupon_date, purchase_date):\n",
        "    # Coupon Payment\n",
        "    coupon_payment = face_value * coupon_rate / 100\n",
        "\n",
        "    # Convert date strings to datetime objects\n",
        "    last_coupon_date = datetime.strptime(last_coupon_date, \"%d-%m-%Y\")\n",
        "    purchase_date = datetime.strptime(purchase_date, \"%d-%m-%Y\")\n",
        "\n",
        "    # Calculate the days since last coupon payment\n",
        "    days_since_last_coupon = (purchase_date - last_coupon_date).days\n",
        "\n",
        "    # Assuming annual coupon payments (365 days in a year)\n",
        "    days_in_coupon_period = 365\n",
        "\n",
        "    # Calculate Accrued Interest\n",
        "    accrued_interest = coupon_payment * days_since_last_coupon / days_in_coupon_period\n",
        "\n",
        "    return accrued_interest\n",
        "\n",
        "def calculate_clean_price(dirty_price, accrued_interest):\n",
        "    return dirty_price - accrued_interest\n",
        "\n",
        "# Input values\n",
        "face_value = 1000\n",
        "coupon_rate = 12.75\n",
        "last_coupon_date = \"01-04-2014\"\n",
        "purchase_date = \"14-07-2014\"\n",
        "dirty_price = 1032\n",
        "\n",
        "# Calculate Accrued Interest\n",
        "accrued_interest = calculate_accrued_interest(face_value, coupon_rate, last_coupon_date, purchase_date)\n",
        "\n",
        "# Calculate Clean Price\n",
        "clean_price = calculate_clean_price(dirty_price, accrued_interest)\n",
        "\n",
        "# Output results\n",
        "print(f\"Accrued Interest: {accrued_interest:.2f}\")\n",
        "print(f\"Clean Price: {clean_price:.2f}\")"
      ],
      "metadata": {
        "colab": {
          "base_uri": "https://localhost:8080/"
        },
        "id": "hxhIxf0nIPP9",
        "outputId": "57d197ab-4ef0-4915-d14a-7053014b3173"
      },
      "execution_count": 3,
      "outputs": [
        {
          "output_type": "stream",
          "name": "stdout",
          "text": [
            "Accrued Interest: 36.33\n",
            "Clean Price: 995.67\n"
          ]
        }
      ]
    },
    {
      "cell_type": "markdown",
      "source": [
        "2.2.ii\n",
        "Consider a bond with the following parameters :\n",
        "Face value 1000 rupees, period 1st jan 2020 to 31st dec 2023,  coupon rate 10%,  coupon payment frequency  : annual, coupon payment date: 1st january, assuming today is 1st May 2022, and you purchased one bond by paying the dirty price (gross price) of 1098 . find the yield to maturity"
      ],
      "metadata": {
        "id": "STdG5gNMJh-O"
      }
    },
    {
      "cell_type": "code",
      "source": [
        "from datetime import datetime\n",
        "\n",
        "# Define the function to calculate bond price given a yield rate\n",
        "def bond_price(face_value, coupon_rate, maturity_years, yield_rate):\n",
        "    coupon_payment = face_value * coupon_rate\n",
        "    price = 0\n",
        "    for t in range(1, maturity_years + 1):\n",
        "        price += coupon_payment / (1 + yield_rate) ** t\n",
        "    price += face_value / (1 + yield_rate) ** maturity_years\n",
        "    return price\n",
        "\n",
        "# Define the function for Newton-Raphson method\n",
        "def newton_raphson_ytm(face_value, coupon_rate, maturity_years, dirty_price, initial_guess=0.1, max_iter=100):\n",
        "    r = initial_guess\n",
        "    for _ in range(max_iter):\n",
        "        f_r = bond_price(face_value, coupon_rate, maturity_years, r) - dirty_price\n",
        "        f_prime_r = -sum(t * coupon_rate / (1 + r) ** (t + 1) for t in range(1, maturity_years + 1)) \\\n",
        "                    - (maturity_years * face_value) / (1 + r) ** (maturity_years + 1)\n",
        "\n",
        "        # Update guess using Newton-Raphson\n",
        "        if f_prime_r == 0:\n",
        "            break\n",
        "        r -= f_r / f_prime_r\n",
        "\n",
        "        # Stop if the result is sufficiently close to zero\n",
        "        if abs(f_r) < 1e-6:\n",
        "            break\n",
        "\n",
        "    return r\n",
        "\n",
        "# Given input values\n",
        "face_value = 1000\n",
        "coupon_rate = 0.10\n",
        "maturity_years = 2  # from 1st May 2022 to maturity date at 31st Dec 2023\n",
        "dirty_price = 1098\n",
        "\n",
        "# Calculate Yield to Maturity\n",
        "ytm = newton_raphson_ytm(face_value, coupon_rate, maturity_years, dirty_price)\n",
        "\n",
        "# Output the result\n",
        "print(f\"Yield to Maturity (YTM): {ytm * 100:.4f}%\")\n"
      ],
      "metadata": {
        "colab": {
          "base_uri": "https://localhost:8080/"
        },
        "id": "zzM5pbwsKLC-",
        "outputId": "24b6211c-2d33-4a81-a4ff-54070738917a"
      },
      "execution_count": 4,
      "outputs": [
        {
          "output_type": "stream",
          "name": "stdout",
          "text": [
            "Yield to Maturity (YTM): 4.7483%\n"
          ]
        }
      ]
    }
  ]
}