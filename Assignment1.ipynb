{
  "nbformat": 4,
  "nbformat_minor": 0,
  "metadata": {
    "colab": {
      "provenance": []
    },
    "kernelspec": {
      "name": "python3",
      "display_name": "Python 3"
    },
    "language_info": {
      "name": "python"
    }
  },
  "cells": [
    {
      "cell_type": "code",
      "execution_count": null,
      "metadata": {
        "id": "HkSAVhygmCld"
      },
      "outputs": [],
      "source": [
        "import yfinance as yf\n",
        "import pandas as pd\n",
        "import numpy as np\n",
        "import matplotlib.pyplot as plt\n",
        "import seaborn as sn"
      ]
    },
    {
      "cell_type": "markdown",
      "source": [
        "I used the yfinance library to download historical stock data for TATAMOTORS.NS and NIFTY50:\n",
        "TATAMOTORS.NS: The ticker symbol for TATA MOTORS on the NSE.\n",
        "^NSEI: The ticker symbol for the NIFTY50 index."
      ],
      "metadata": {
        "id": "lZH6ySFl7J-O"
      }
    },
    {
      "cell_type": "code",
      "source": [
        "# Fetch data for NIFTY50 (symbol '^NSEI') and TATA MOTORS (symbol 'TATAMOTORS.NS')\n",
        "nifty50 = yf.download('^NSEI', start='2023-04-01', end='2024-04-01')\n",
        "tata_motors = yf.download('TATAMOTORS.NS', start='2023-04-01', end='2024-04-01')\n",
        "# Display the first few rows of data\n",
        "print(\"NIFTY50 Data:\")\n",
        "print(nifty50.head())\n",
        "\n",
        "print(\"\\nTATA MOTORS Data:\")\n",
        "print(tata_motors.head())"
      ],
      "metadata": {
        "colab": {
          "base_uri": "https://localhost:8080/"
        },
        "id": "eEq9vEvxpRiV",
        "outputId": "bdab82c8-b4a1-48dd-bcbf-1510c3e83534"
      },
      "execution_count": null,
      "outputs": [
        {
          "output_type": "stream",
          "name": "stderr",
          "text": [
            "[*********************100%***********************]  1 of 1 completed\n",
            "[*********************100%***********************]  1 of 1 completed"
          ]
        },
        {
          "output_type": "stream",
          "name": "stdout",
          "text": [
            "NIFTY50 Data:\n",
            "Price              Close          High           Low          Open  Volume\n",
            "Ticker             ^NSEI         ^NSEI         ^NSEI         ^NSEI   ^NSEI\n",
            "Date                                                                      \n",
            "2023-04-03  17398.050781  17428.050781  17312.750000  17427.949219  230200\n",
            "2023-04-05  17557.050781  17570.550781  17402.699219  17422.300781  248300\n",
            "2023-04-06  17599.150391  17638.699219  17502.849609  17533.849609  242700\n",
            "2023-04-10  17624.050781  17694.099609  17597.949219  17634.900391  254800\n",
            "2023-04-11  17722.300781  17748.750000  17655.150391  17704.800781  304300\n",
            "\n",
            "TATA MOTORS Data:\n",
            "Price              Close          High           Low          Open  \\\n",
            "Ticker     TATAMOTORS.NS TATAMOTORS.NS TATAMOTORS.NS TATAMOTORS.NS   \n",
            "Date                                                                 \n",
            "2023-04-03    421.630737    422.326428    416.910063    420.388455   \n",
            "2023-04-05    423.916504    426.102933    420.537501    421.630716   \n",
            "2023-04-06    434.947998    436.587805    421.133821    423.866843   \n",
            "2023-04-10    458.451965    470.377878    449.209395    449.259074   \n",
            "2023-04-11    455.868042    460.886852    452.985922    460.886852   \n",
            "\n",
            "Price             Volume  \n",
            "Ticker     TATAMOTORS.NS  \n",
            "Date                      \n",
            "2023-04-03       6948329  \n",
            "2023-04-05       8821326  \n",
            "2023-04-06      10907492  \n",
            "2023-04-10      50462653  \n",
            "2023-04-11      14495222  \n"
          ]
        },
        {
          "output_type": "stream",
          "name": "stderr",
          "text": [
            "\n"
          ]
        }
      ]
    },
    {
      "cell_type": "markdown",
      "source": [
        "To calculate daily returns, I used the percentage change in the Close prices of both TATAMOTORS.NS and NIFTY50:\n",
        "\n",
        "Daily returns are computed as the percentage change in the closing price from one day to the next:\n",
        "Daily Return=(𝑃𝑡−𝑃𝑡−1)/𝑃𝑡−1\n",
        "\n",
        "This is done using the pct_change() method from pandas."
      ],
      "metadata": {
        "id": "YDy0Wr9N7SDn"
      }
    },
    {
      "cell_type": "code",
      "source": [
        "# Use Adjusted Close prices for calculations\n",
        "tata_motors['Daily Return'] = tata_motors['Close'].pct_change()\n",
        "nifty50['Daily Return'] = nifty50['Close'].pct_change()\n"
      ],
      "metadata": {
        "id": "EiHLIyndpwej"
      },
      "execution_count": null,
      "outputs": []
    },
    {
      "cell_type": "markdown",
      "source": [
        "To perform the regression analysis, I merged the daily returns of TATAMOTORS.NS and NIFTY50 into a single DataFrame.\n",
        "The first row will have NaN values due to the pct_change() function, so I dropped that."
      ],
      "metadata": {
        "id": "BMIUmh7F7XPe"
      }
    },
    {
      "cell_type": "code",
      "source": [
        "data = pd.concat([tata_motors['Daily Return'], nifty50['Daily Return']], axis=1).dropna()\n",
        "data.columns = ['TATA_MOTORS', 'NIFTY50']"
      ],
      "metadata": {
        "id": "_CTBjMqE2Zji"
      },
      "execution_count": null,
      "outputs": []
    },
    {
      "cell_type": "markdown",
      "source": [
        "To calculate alpha and beta, I used Ordinary Least Squares (OLS) regression:\n",
        "\n",
        "Beta represents the sensitivity of TATA MOTORS returns to the market (NIFTY50) returns. It is the slope of the regression line.\n",
        "\n",
        "Alpha represents the intercept, which is the excess return of TATA MOTORS over the market.\n",
        "\n",
        "For regression, we need:\n",
        "\n",
        "The dependent variable (y): This is the return of TATAMOTORS.NS.\n",
        "\n",
        "The independent variable (X): This is the return of the NIFTY50."
      ],
      "metadata": {
        "id": "QhsPch7l6_lF"
      }
    },
    {
      "cell_type": "code",
      "source": [
        "from sklearn.linear_model import LinearRegression\n",
        "# Reshape the data for fitting in sklearn (make sure it's a 2D array for X)\n",
        "X = data['NIFTY50'].values.reshape(-1, 1)  # Independent variable (Market return)\n",
        "y = data['TATA_MOTORS'].values  # Dependent variable (TATA MOTORS return)\n",
        "\n",
        "# Initialize and fit the Linear Regression model\n",
        "model = LinearRegression()\n",
        "model.fit(X, y)\n",
        "\n",
        "# Getting the alpha (intercept) and beta (slope)\n",
        "alpha = model.intercept_\n",
        "beta = model.coef_[0]"
      ],
      "metadata": {
        "id": "Ye_tjKWh3mcR"
      },
      "execution_count": null,
      "outputs": []
    },
    {
      "cell_type": "code",
      "source": [
        "# Display results\n",
        "print(f\"Alpha (Intercept): {alpha}\")\n",
        "print(f\"Beta (Slope): {beta}\")"
      ],
      "metadata": {
        "colab": {
          "base_uri": "https://localhost:8080/"
        },
        "id": "1CRxl8Fd35J7",
        "outputId": "11fe2ab0-3c1a-4ca5-8c49-600cee43f20b"
      },
      "execution_count": null,
      "outputs": [
        {
          "output_type": "stream",
          "name": "stdout",
          "text": [
            "Alpha (Intercept): 0.0024941822222481888\n",
            "Beta (Slope): 1.0940495680506135\n"
          ]
        }
      ]
    },
    {
      "cell_type": "markdown",
      "source": [
        "Calculate the daily returns for both TATAMOTORS.NS and NIFTY50.\n",
        "Compute the excess returns: Subtract the risk-free rate (7.015% annually) from the daily returns.\n",
        "Calculate the Sharpe ratio using the formula:\n",
        "Sharpe Ratio=(Mean of Excess Returns)/(Standard Deviation of Excess Returns)\n",
        "\n",
        "Annualize the Sharpe ratio by multiplying by 252(assuming 252 trading days in a year)."
      ],
      "metadata": {
        "id": "uZMGlKPc6qfC"
      }
    },
    {
      "cell_type": "code",
      "source": [
        "# Function to calculate Sharpe ratio (annualized)\n",
        "risk_free_rate_annual = 7.015 / 100\n",
        "risk_free_rate_daily = (1 + risk_free_rate_annual) ** (1/252) - 1\n",
        "\n",
        "def calculate_sharpe_ratio(returns, risk_free_rate=risk_free_rate_daily):\n",
        "    # Excess returns (subtracting the risk-free rate)\n",
        "    excess_returns = returns - risk_free_rate\n",
        "    # Sharpe ratio formula: mean of excess returns / standard deviation of excess returns\n",
        "    sharpe_ratio_daily = excess_returns.mean() / excess_returns.std()\n",
        "    # Annualize Sharpe ratio by multiplying by sqrt(252)\n",
        "    sharpe_ratio_annual = sharpe_ratio_daily * np.sqrt(252)\n",
        "    return sharpe_ratio_annual\n",
        "# Calculate Sharpe ratios for TATAMOTORS and NIFTY50\n",
        "sharpe_ratio_tata_motors = calculate_sharpe_ratio(tata_motors['Daily Return'])\n",
        "sharpe_ratio_nifty50 = calculate_sharpe_ratio(nifty50['Daily Return'])\n",
        "\n",
        "# Display results\n",
        "print(f\"Annualized Sharpe Ratio for TATAMOTORS: {sharpe_ratio_tata_motors}\")\n",
        "print(f\"Annualized Sharpe Ratio for NIFTY50: {sharpe_ratio_nifty50}\")\n",
        "\n"
      ],
      "metadata": {
        "colab": {
          "base_uri": "https://localhost:8080/"
        },
        "id": "jXvZhjxy6qIL",
        "outputId": "8604150a-79c9-4b26-e36e-6a93848fa109"
      },
      "execution_count": null,
      "outputs": [
        {
          "output_type": "stream",
          "name": "stdout",
          "text": [
            "Annualized Sharpe Ratio for TATAMOTORS: 3.5684329777217294\n",
            "Annualized Sharpe Ratio for NIFTY50: 1.988041196309432\n"
          ]
        }
      ]
    },
    {
      "cell_type": "markdown",
      "source": [
        "Calculating Max Drawdown:\n",
        "Calculate the cumulative returns for both shares (this represents the growth of an initial investment over time).\n",
        "\n",
        "Track the running maximum of the cumulative returns up to each point.\n",
        "\n",
        "Calculate the drawdown at each point, which is the difference between the current cumulative return and the running maximum.\n",
        "\n",
        "The maximum drawdown is the largest negative value of the drawdowns, indicating the deepest peak-to-trough loss."
      ],
      "metadata": {
        "id": "hxbQwGqP-Jrk"
      }
    },
    {
      "cell_type": "markdown",
      "source": [],
      "metadata": {
        "id": "YMH9A1Zg-oBM"
      }
    },
    {
      "cell_type": "code",
      "source": [
        "# Cumulative Returns Calculation\n",
        "tata_motors['Cumulative Return'] = (1 + tata_motors['Daily Return']).cumprod()\n",
        "nifty50['Cumulative Return'] = (1 + nifty50['Daily Return']).cumprod()\n",
        "\n",
        "# Running Maximum Calculation\n",
        "tata_motors['Running Max'] = tata_motors['Cumulative Return'].cummax()\n",
        "nifty50['Running Max'] = nifty50['Cumulative Return'].cummax()\n",
        "\n",
        "# Drawdowns Calculation\n",
        "tata_motors['Drawdown'] = (tata_motors['Cumulative Return'] - tata_motors['Running Max']) / tata_motors['Running Max']\n",
        "nifty50['Drawdown'] = (nifty50['Cumulative Return'] - nifty50['Running Max']) / nifty50['Running Max']\n",
        "\n",
        "# Maximum Drawdown Calculation\n",
        "tata_motors_max_drawdown = tata_motors['Drawdown'].min()\n",
        "nifty50_max_drawdown = nifty50['Drawdown'].min()\n",
        "\n",
        "# Display the Maximum Drawdowns\n",
        "print(f\"Maximum Drawdown for TATAMOTORS.NS: {tata_motors_max_drawdown:.4f}\")\n",
        "print(f\"Maximum Drawdown for NIFTY50: {nifty50_max_drawdown:.4f}\")"
      ],
      "metadata": {
        "id": "GcFND2LEB4kk",
        "outputId": "a238858a-f5ac-4482-8fdf-952356170f9c",
        "colab": {
          "base_uri": "https://localhost:8080/"
        }
      },
      "execution_count": null,
      "outputs": [
        {
          "output_type": "stream",
          "name": "stdout",
          "text": [
            "Maximum Drawdown for TATAMOTORS.NS: -0.0951\n",
            "Maximum Drawdown for NIFTY50: -0.0661\n"
          ]
        }
      ]
    }
  ]
}